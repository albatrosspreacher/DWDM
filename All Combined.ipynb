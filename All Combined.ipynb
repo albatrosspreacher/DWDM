{
  "nbformat": 4,
  "nbformat_minor": 0,
  "metadata": {
    "kernelspec": {
      "display_name": "Python 3",
      "language": "python",
      "name": "python3"
    },
    "language_info": {
      "codemirror_mode": {
        "name": "ipython",
        "version": 3
      },
      "file_extension": ".py",
      "mimetype": "text/x-python",
      "name": "python",
      "nbconvert_exporter": "python",
      "pygments_lexer": "ipython3",
      "version": "3.8.5"
    },
    "colab": {
      "name": "all-combined.ipynb",
      "provenance": [],
      "collapsed_sections": []
    }
  },
  "cells": [
    {
      "cell_type": "code",
      "metadata": {
        "id": "fdYZQyYBDkXn"
      },
      "source": [
        "## Classification using Logistic Regression\n",
        "import pandas as pd\n",
        "import numpy as np\n",
        "import re\n",
        "import nltk\n",
        "import string\n",
        "import os\n",
        "import nltk\n",
        "import matplotlib.pyplot as plt\n",
        "from sklearn.model_selection import train_test_split\n",
        "from sklearn.linear_model import LogisticRegression\n",
        "from sklearn.naive_bayes import MultinomialNB\n",
        "from sklearn import svm\n",
        "from sklearn.feature_extraction.text import TfidfVectorizer\n",
        "from sklearn.feature_extraction.text import CountVectorizer\n",
        "from sklearn.metrics import classification_report, confusion_matrix, accuracy_score\n",
        "from google.colab import drive"
      ],
      "execution_count": null,
      "outputs": []
    },
    {
      "cell_type": "code",
      "metadata": {
        "id": "v2lPCsZ0DkXr",
        "colab": {
          "base_uri": "https://localhost:8080/",
          "height": 225
        },
        "outputId": "ccf8cd60-1d1d-43e8-ce3d-f1c7c495cb06"
      },
      "source": [
        "drive.mount('/content/gdrive')\n",
        "products = pd.read_csv('/content/gdrive/MyDrive/Colab Notebooks/DWDM/amazon_baby.csv')\n",
        "products.head()"
      ],
      "execution_count": null,
      "outputs": [
        {
          "output_type": "stream",
          "text": [
            "Drive already mounted at /content/gdrive; to attempt to forcibly remount, call drive.mount(\"/content/gdrive\", force_remount=True).\n"
          ],
          "name": "stdout"
        },
        {
          "output_type": "execute_result",
          "data": {
            "text/html": [
              "<div>\n",
              "<style scoped>\n",
              "    .dataframe tbody tr th:only-of-type {\n",
              "        vertical-align: middle;\n",
              "    }\n",
              "\n",
              "    .dataframe tbody tr th {\n",
              "        vertical-align: top;\n",
              "    }\n",
              "\n",
              "    .dataframe thead th {\n",
              "        text-align: right;\n",
              "    }\n",
              "</style>\n",
              "<table border=\"1\" class=\"dataframe\">\n",
              "  <thead>\n",
              "    <tr style=\"text-align: right;\">\n",
              "      <th></th>\n",
              "      <th>name</th>\n",
              "      <th>review</th>\n",
              "      <th>rating</th>\n",
              "    </tr>\n",
              "  </thead>\n",
              "  <tbody>\n",
              "    <tr>\n",
              "      <th>0</th>\n",
              "      <td>Planetwise Flannel Wipes</td>\n",
              "      <td>These flannel wipes are OK, but in my opinion ...</td>\n",
              "      <td>3</td>\n",
              "    </tr>\n",
              "    <tr>\n",
              "      <th>1</th>\n",
              "      <td>Planetwise Wipe Pouch</td>\n",
              "      <td>it came early and was not disappointed. i love...</td>\n",
              "      <td>5</td>\n",
              "    </tr>\n",
              "    <tr>\n",
              "      <th>2</th>\n",
              "      <td>Annas Dream Full Quilt with 2 Shams</td>\n",
              "      <td>Very soft and comfortable and warmer than it l...</td>\n",
              "      <td>5</td>\n",
              "    </tr>\n",
              "    <tr>\n",
              "      <th>3</th>\n",
              "      <td>Stop Pacifier Sucking without tears with Thumb...</td>\n",
              "      <td>This is a product well worth the purchase.  I ...</td>\n",
              "      <td>5</td>\n",
              "    </tr>\n",
              "    <tr>\n",
              "      <th>4</th>\n",
              "      <td>Stop Pacifier Sucking without tears with Thumb...</td>\n",
              "      <td>All of my kids have cried non-stop when I trie...</td>\n",
              "      <td>5</td>\n",
              "    </tr>\n",
              "  </tbody>\n",
              "</table>\n",
              "</div>"
            ],
            "text/plain": [
              "                                                name  ... rating\n",
              "0                           Planetwise Flannel Wipes  ...      3\n",
              "1                              Planetwise Wipe Pouch  ...      5\n",
              "2                Annas Dream Full Quilt with 2 Shams  ...      5\n",
              "3  Stop Pacifier Sucking without tears with Thumb...  ...      5\n",
              "4  Stop Pacifier Sucking without tears with Thumb...  ...      5\n",
              "\n",
              "[5 rows x 3 columns]"
            ]
          },
          "metadata": {
            "tags": []
          },
          "execution_count": 29
        }
      ]
    },
    {
      "cell_type": "code",
      "metadata": {
        "id": "D2o62TioDkXu",
        "colab": {
          "base_uri": "https://localhost:8080/"
        },
        "outputId": "6526497e-3fda-4491-f2ae-f5f1924fe665"
      },
      "source": [
        "len(products) - len(products.dropna())"
      ],
      "execution_count": null,
      "outputs": [
        {
          "output_type": "execute_result",
          "data": {
            "text/plain": [
              "1147"
            ]
          },
          "metadata": {
            "tags": []
          },
          "execution_count": 30
        }
      ]
    },
    {
      "cell_type": "code",
      "metadata": {
        "id": "OvaUUb5ODkXv",
        "colab": {
          "base_uri": "https://localhost:8080/"
        },
        "outputId": "1af1920c-95ca-4ec9-eea7-d2e0b2b70986"
      },
      "source": [
        "len(products)"
      ],
      "execution_count": null,
      "outputs": [
        {
          "output_type": "execute_result",
          "data": {
            "text/plain": [
              "183531"
            ]
          },
          "metadata": {
            "tags": []
          },
          "execution_count": 31
        }
      ]
    },
    {
      "cell_type": "code",
      "metadata": {
        "id": "XZH3Ci9WDkXw"
      },
      "source": [
        "products = products.dropna()"
      ],
      "execution_count": null,
      "outputs": []
    },
    {
      "cell_type": "code",
      "metadata": {
        "id": "d3370XcVDkXw"
      },
      "source": [
        "for i in range(0,len(products)-1):\n",
        "    if type(products.iloc[i]['review']) != str:\n",
        "        products.iloc[i]['review'] = str(products.iloc[i]['review'])"
      ],
      "execution_count": null,
      "outputs": []
    },
    {
      "cell_type": "code",
      "metadata": {
        "id": "UhoPGaulDkXx"
      },
      "source": [
        "products = products[products['rating'] != 3]"
      ],
      "execution_count": null,
      "outputs": []
    },
    {
      "cell_type": "code",
      "metadata": {
        "id": "L3hJCsudDkXx",
        "colab": {
          "base_uri": "https://localhost:8080/",
          "height": 206
        },
        "outputId": "215b81dd-1fa4-4257-8212-e4b08a4c0bc2"
      },
      "source": [
        "def sentiment_pred(n):\n",
        "    return 1 if n >= 4 else 0\n",
        "products['sentiment'] = products['rating'].apply(sentiment_pred)\n",
        "products.head()"
      ],
      "execution_count": null,
      "outputs": [
        {
          "output_type": "execute_result",
          "data": {
            "text/html": [
              "<div>\n",
              "<style scoped>\n",
              "    .dataframe tbody tr th:only-of-type {\n",
              "        vertical-align: middle;\n",
              "    }\n",
              "\n",
              "    .dataframe tbody tr th {\n",
              "        vertical-align: top;\n",
              "    }\n",
              "\n",
              "    .dataframe thead th {\n",
              "        text-align: right;\n",
              "    }\n",
              "</style>\n",
              "<table border=\"1\" class=\"dataframe\">\n",
              "  <thead>\n",
              "    <tr style=\"text-align: right;\">\n",
              "      <th></th>\n",
              "      <th>name</th>\n",
              "      <th>review</th>\n",
              "      <th>rating</th>\n",
              "      <th>sentiment</th>\n",
              "    </tr>\n",
              "  </thead>\n",
              "  <tbody>\n",
              "    <tr>\n",
              "      <th>1</th>\n",
              "      <td>Planetwise Wipe Pouch</td>\n",
              "      <td>it came early and was not disappointed. i love...</td>\n",
              "      <td>5</td>\n",
              "      <td>1</td>\n",
              "    </tr>\n",
              "    <tr>\n",
              "      <th>2</th>\n",
              "      <td>Annas Dream Full Quilt with 2 Shams</td>\n",
              "      <td>Very soft and comfortable and warmer than it l...</td>\n",
              "      <td>5</td>\n",
              "      <td>1</td>\n",
              "    </tr>\n",
              "    <tr>\n",
              "      <th>3</th>\n",
              "      <td>Stop Pacifier Sucking without tears with Thumb...</td>\n",
              "      <td>This is a product well worth the purchase.  I ...</td>\n",
              "      <td>5</td>\n",
              "      <td>1</td>\n",
              "    </tr>\n",
              "    <tr>\n",
              "      <th>4</th>\n",
              "      <td>Stop Pacifier Sucking without tears with Thumb...</td>\n",
              "      <td>All of my kids have cried non-stop when I trie...</td>\n",
              "      <td>5</td>\n",
              "      <td>1</td>\n",
              "    </tr>\n",
              "    <tr>\n",
              "      <th>5</th>\n",
              "      <td>Stop Pacifier Sucking without tears with Thumb...</td>\n",
              "      <td>When the Binky Fairy came to our house, we did...</td>\n",
              "      <td>5</td>\n",
              "      <td>1</td>\n",
              "    </tr>\n",
              "  </tbody>\n",
              "</table>\n",
              "</div>"
            ],
            "text/plain": [
              "                                                name  ... sentiment\n",
              "1                              Planetwise Wipe Pouch  ...         1\n",
              "2                Annas Dream Full Quilt with 2 Shams  ...         1\n",
              "3  Stop Pacifier Sucking without tears with Thumb...  ...         1\n",
              "4  Stop Pacifier Sucking without tears with Thumb...  ...         1\n",
              "5  Stop Pacifier Sucking without tears with Thumb...  ...         1\n",
              "\n",
              "[5 rows x 4 columns]"
            ]
          },
          "metadata": {
            "tags": []
          },
          "execution_count": 35
        }
      ]
    },
    {
      "cell_type": "code",
      "metadata": {
        "id": "_0IzpHCyDkXy"
      },
      "source": [
        "scores = products['rating']"
      ],
      "execution_count": null,
      "outputs": []
    },
    {
      "cell_type": "code",
      "metadata": {
        "id": "4dvJ31AeDkXz",
        "colab": {
          "base_uri": "https://localhost:8080/"
        },
        "outputId": "30f028b2-4eb8-42dd-c812-2d04e0c90eb7"
      },
      "source": [
        "print(\"The mean of output classes in the dataset is:\")\n",
        "print(scores.mean())\n",
        "print(\"The standard deviation of the output classes in the dataset is:\")\n",
        "print(scores.std())"
      ],
      "execution_count": null,
      "outputs": [
        {
          "output_type": "stream",
          "text": [
            "The mean of output classes in the dataset is:\n",
            "4.232033027722283\n",
            "The standard deviation of the output classes in the dataset is:\n",
            "1.2960315168252163\n"
          ],
          "name": "stdout"
        }
      ]
    },
    {
      "cell_type": "code",
      "metadata": {
        "id": "7WIyY26GDkXz",
        "colab": {
          "base_uri": "https://localhost:8080/"
        },
        "outputId": "c7433a5d-f7aa-4e9a-ef9a-d37e5541a690"
      },
      "source": [
        "# Distribution of the Training Output classes.\n",
        "products.groupby('sentiment')['review'].count()"
      ],
      "execution_count": null,
      "outputs": [
        {
          "output_type": "execute_result",
          "data": {
            "text/plain": [
              "sentiment\n",
              "0     26361\n",
              "1    139318\n",
              "Name: review, dtype: int64"
            ]
          },
          "metadata": {
            "tags": []
          },
          "execution_count": 38
        }
      ]
    },
    {
      "cell_type": "code",
      "metadata": {
        "id": "k7YQahlxDkX0",
        "colab": {
          "base_uri": "https://localhost:8080/",
          "height": 418
        },
        "outputId": "123ca33f-09c1-4e63-c839-5d00bd3c661d"
      },
      "source": [
        "# Plotting the sentiment 0 and 1 using a bar graph\n",
        "products.groupby('sentiment')['review'].count().plot(kind='bar', color= ['r','g'],title='Label Distribution',  figsize = (10,6))"
      ],
      "execution_count": null,
      "outputs": [
        {
          "output_type": "execute_result",
          "data": {
            "text/plain": [
              "<matplotlib.axes._subplots.AxesSubplot at 0x7ff6fad02390>"
            ]
          },
          "metadata": {
            "tags": []
          },
          "execution_count": 39
        },
        {
          "output_type": "display_data",
          "data": {
            "image/png": "[encoded data removed]",
            "text/plain": [
              "<Figure size 720x432 with 1 Axes>"
            ]
          },
          "metadata": {
            "tags": [],
            "needs_background": "light"
          }
        }
      ]
    },
    {
      "cell_type": "code",
      "metadata": {
        "id": "7SW4HQwsDkX0",
        "colab": {
          "base_uri": "https://localhost:8080/"
        },
        "outputId": "02caae71-9b61-4f83-a75a-d6a7066c8fd5"
      },
      "source": [
        "## Pre Processing Steps which uses lemmatizer and stopwords to clean the reviews.\n",
        "lemmatizer = nltk.WordNetLemmatizer()\n",
        "nltk.download('stopwords')\n",
        "stop = stopwords.words('english')\n",
        "translation = str.maketrans(string.punctuation,' '*len(string.punctuation))\n",
        "\n",
        "def preprocessing(line):\n",
        "    tokens=[]\n",
        "    line = line.translate(translation)\n",
        "    line = nltk.word_tokenize(line.lower())\n",
        "    stops = stopwords.words('english')\n",
        "    stops.remove('not')\n",
        "    stops.remove('no')\n",
        "    line = [word for word in line if word not in stops]\n",
        "    for t in line:\n",
        "        stemmed = lemmatizer.lemmatize(t)\n",
        "        tokens.append(stemmed)\n",
        "    return ' '.join(tokens)"
      ],
      "execution_count": null,
      "outputs": [
        {
          "output_type": "stream",
          "text": [
            "[nltk_data] Downloading package stopwords to /root/nltk_data...\n",
            "[nltk_data]   Unzipping corpora/stopwords.zip.\n"
          ],
          "name": "stdout"
        }
      ]
    },
    {
      "cell_type": "code",
      "metadata": {
        "id": "exsYIch6DkX0"
      },
      "source": [
        "X=products['review']\n",
        "y=products['sentiment']"
      ],
      "execution_count": null,
      "outputs": []
    },
    {
      "cell_type": "code",
      "metadata": {
        "id": "pc6zMUpzDkX1",
        "colab": {
          "base_uri": "https://localhost:8080/"
        },
        "outputId": "bcbf3cff-252b-43cc-81a8-b557e8d5c6d6"
      },
      "source": [
        "nltk.download('punkt')\n",
        "nltk.download('wordnet')\n",
        "data = []\n",
        "for p in products['review']:\n",
        "    data.append(preprocessing(p))"
      ],
      "execution_count": null,
      "outputs": [
        {
          "output_type": "stream",
          "text": [
            "[nltk_data] Downloading package punkt to /root/nltk_data...\n",
            "[nltk_data]   Package punkt is already up-to-date!\n",
            "[nltk_data] Downloading package wordnet to /root/nltk_data...\n",
            "[nltk_data]   Unzipping corpora/wordnet.zip.\n"
          ],
          "name": "stdout"
        }
      ]
    },
    {
      "cell_type": "code",
      "metadata": {
        "id": "x2Hv2NmMDkX1"
      },
      "source": [
        "tfidf = TfidfVectorizer(sublinear_tf=True, min_df=5,max_df = 0.7,norm='l2', encoding='latin-1', ngram_range=(1, 2),\n",
        "stop_words='english')"
      ],
      "execution_count": null,
      "outputs": []
    },
    {
      "cell_type": "code",
      "metadata": {
        "id": "Us8wmb1xDkX1"
      },
      "source": [
        "X_tfidf = tfidf.fit_transform(data)"
      ],
      "execution_count": null,
      "outputs": []
    },
    {
      "cell_type": "code",
      "metadata": {
        "id": "5hzT7WEyDkX1"
      },
      "source": [
        "# Splitting the dataset in training dataset and testing dataset\n",
        "X_train, X_test, y_train, y_test = train_test_split(X_tfidf, y, random_state=0)"
      ],
      "execution_count": null,
      "outputs": []
    },
    {
      "cell_type": "code",
      "metadata": {
        "id": "9-BcwjhzDkX1",
        "colab": {
          "base_uri": "https://localhost:8080/"
        },
        "outputId": "a624f70b-92e4-4bf4-f3fc-21e8089ec32f"
      },
      "source": [
        "# Applying the Logistic regression model\n",
        "model = LogisticRegression(solver='lbfgs',max_iter=10000)\n",
        "model.fit(X_train, y_train)"
      ],
      "execution_count": null,
      "outputs": [
        {
          "output_type": "execute_result",
          "data": {
            "text/plain": [
              "LogisticRegression(C=1.0, class_weight=None, dual=False, fit_intercept=True,\n",
              "                   intercept_scaling=1, l1_ratio=None, max_iter=10000,\n",
              "                   multi_class='auto', n_jobs=None, penalty='l2',\n",
              "                   random_state=None, solver='lbfgs', tol=0.0001, verbose=0,\n",
              "                   warm_start=False)"
            ]
          },
          "metadata": {
            "tags": []
          },
          "execution_count": 48
        }
      ]
    },
    {
      "cell_type": "code",
      "metadata": {
        "id": "8xz4jtd6DkX2"
      },
      "source": [
        "y_pred_class = model.predict(X_test)"
      ],
      "execution_count": null,
      "outputs": []
    },
    {
      "cell_type": "code",
      "metadata": {
        "id": "wCCNwxEjDkX2",
        "colab": {
          "base_uri": "https://localhost:8080/"
        },
        "outputId": "6f24833c-0087-4fcf-bc72-80b1dcb94989"
      },
      "source": [
        "# Classification report & confusion matrix for Logistic Regression\n",
        "print(\"Confusion Matrix\\n\",confusion_matrix(y_test,y_pred_class))\n",
        "print(\"\\n\")\n",
        "print(\"Classification Report\\n\",classification_report(y_test,y_pred_class))"
      ],
      "execution_count": null,
      "outputs": [
        {
          "output_type": "stream",
          "text": [
            "Confusion Matrix\n",
            " [[ 4038  2528]\n",
            " [  518 34336]]\n",
            "\n",
            "\n",
            "Classification Report\n",
            "               precision    recall  f1-score   support\n",
            "\n",
            "           0       0.89      0.61      0.73      6566\n",
            "           1       0.93      0.99      0.96     34854\n",
            "\n",
            "    accuracy                           0.93     41420\n",
            "   macro avg       0.91      0.80      0.84     41420\n",
            "weighted avg       0.92      0.93      0.92     41420\n",
            "\n"
          ],
          "name": "stdout"
        }
      ]
    },
    {
      "cell_type": "code",
      "metadata": {
        "id": "KzPbUfyPDkX2",
        "colab": {
          "base_uri": "https://localhost:8080/"
        },
        "outputId": "7bf730bb-3e2b-4727-d24e-4438f2d95867"
      },
      "source": [
        "print(\"Accuracy of Logistic Regression : \",accuracy_score(y_test,y_pred_class)*100)"
      ],
      "execution_count": null,
      "outputs": [
        {
          "output_type": "stream",
          "text": [
            "Accuracy of Logistic Regression :  92.64606470304201\n"
          ],
          "name": "stdout"
        }
      ]
    },
    {
      "cell_type": "code",
      "metadata": {
        "id": "npFPybqtDkX2",
        "colab": {
          "base_uri": "https://localhost:8080/"
        },
        "outputId": "a58af36f-da0c-443c-be69-13f1465d77a8"
      },
      "source": [
        "# Applying the Multinomial Naive Bayes model\n",
        "clf = MultinomialNB()\n",
        "clf.fit(X_train, y_train)"
      ],
      "execution_count": null,
      "outputs": [
        {
          "output_type": "execute_result",
          "data": {
            "text/plain": [
              "MultinomialNB(alpha=1.0, class_prior=None, fit_prior=True)"
            ]
          },
          "metadata": {
            "tags": []
          },
          "execution_count": 52
        }
      ]
    },
    {
      "cell_type": "code",
      "metadata": {
        "id": "W_dEXunxDkX3"
      },
      "source": [
        "y_pred = clf.predict(X_test)"
      ],
      "execution_count": null,
      "outputs": []
    },
    {
      "cell_type": "code",
      "metadata": {
        "id": "skWhLRVXDkX3",
        "colab": {
          "base_uri": "https://localhost:8080/"
        },
        "outputId": "d4479c39-a412-43d9-ed47-69880e2537d8"
      },
      "source": [
        "# Classification report & confusion matrix of Naive Bayes model\n",
        "print(\"Confusion Matrix\\n\",confusion_matrix(y_test,y_pred))\n",
        "print(\"\\n\")\n",
        "print(\"Classification Report\\n\",classification_report(y_test,y_pred))"
      ],
      "execution_count": null,
      "outputs": [
        {
          "output_type": "stream",
          "text": [
            "Confusion Matrix\n",
            " [[  980  5586]\n",
            " [   44 34810]]\n",
            "\n",
            "\n",
            "Classification Report\n",
            "               precision    recall  f1-score   support\n",
            "\n",
            "           0       0.96      0.15      0.26      6566\n",
            "           1       0.86      1.00      0.93     34854\n",
            "\n",
            "    accuracy                           0.86     41420\n",
            "   macro avg       0.91      0.57      0.59     41420\n",
            "weighted avg       0.88      0.86      0.82     41420\n",
            "\n"
          ],
          "name": "stdout"
        }
      ]
    },
    {
      "cell_type": "code",
      "metadata": {
        "id": "Ltv9WD26DkX3",
        "colab": {
          "base_uri": "https://localhost:8080/"
        },
        "outputId": "02092625-c813-437b-d5f7-4d5fc196e65e"
      },
      "source": [
        "print(\"Accuracy of Naive Bayes : \",accuracy_score(y_test,y_pred)*100)"
      ],
      "execution_count": null,
      "outputs": [
        {
          "output_type": "stream",
          "text": [
            "Accuracy of Naive Bayes :  86.40753259295026\n"
          ],
          "name": "stdout"
        }
      ]
    },
    {
      "cell_type": "code",
      "metadata": {
        "id": "jDuUdPxlDkX4",
        "colab": {
          "base_uri": "https://localhost:8080/"
        },
        "outputId": "bf25df12-dd16-4a0f-857e-481ed687f951"
      },
      "source": [
        "from sklearn.svm import LinearSVC\n",
        "clf1 = LinearSVC()\n",
        "\n",
        "# Fit train and test into the model\n",
        "clf1.fit(X_train, y_train)"
      ],
      "execution_count": null,
      "outputs": [
        {
          "output_type": "execute_result",
          "data": {
            "text/plain": [
              "LinearSVC(C=1.0, class_weight=None, dual=True, fit_intercept=True,\n",
              "          intercept_scaling=1, loss='squared_hinge', max_iter=1000,\n",
              "          multi_class='ovr', penalty='l2', random_state=None, tol=0.0001,\n",
              "          verbose=0)"
            ]
          },
          "metadata": {
            "tags": []
          },
          "execution_count": 56
        }
      ]
    },
    {
      "cell_type": "code",
      "metadata": {
        "id": "o0_47WjGDkX4"
      },
      "source": [
        "y_pred_class1 = clf1.predict(X_test)"
      ],
      "execution_count": null,
      "outputs": []
    },
    {
      "cell_type": "code",
      "metadata": {
        "id": "XY0C9Y12DkX4",
        "colab": {
          "base_uri": "https://localhost:8080/"
        },
        "outputId": "deec89d8-7ec3-4ec8-d46e-3bed7eb6a8fd"
      },
      "source": [
        "# Classification report & confusion matrix of SVM model\n",
        "print(\"Confusion Matrix\\n\",confusion_matrix(y_test,y_pred_class1))\n",
        "print(\"\\n\")\n",
        "print(\"Classification Report\\n\",classification_report(y_test,y_pred_class1))"
      ],
      "execution_count": null,
      "outputs": [
        {
          "output_type": "stream",
          "text": [
            "Confusion Matrix\n",
            " [[ 4693  1873]\n",
            " [  876 33978]]\n",
            "\n",
            "\n",
            "Classification Report\n",
            "               precision    recall  f1-score   support\n",
            "\n",
            "           0       0.84      0.71      0.77      6566\n",
            "           1       0.95      0.97      0.96     34854\n",
            "\n",
            "    accuracy                           0.93     41420\n",
            "   macro avg       0.90      0.84      0.87     41420\n",
            "weighted avg       0.93      0.93      0.93     41420\n",
            "\n"
          ],
          "name": "stdout"
        }
      ]
    },
    {
      "cell_type": "code",
      "metadata": {
        "id": "60S0RP8aDkX4",
        "colab": {
          "base_uri": "https://localhost:8080/"
        },
        "outputId": "71c15d7f-934d-4fad-c26d-bdcf5b916b2f"
      },
      "source": [
        "print(\"Accuracy of SVM : \",accuracy_score(y_test,y_pred_class1)*100)"
      ],
      "execution_count": null,
      "outputs": [
        {
          "output_type": "stream",
          "text": [
            "Accuracy of SVM :  93.3631096088846\n"
          ],
          "name": "stdout"
        }
      ]
    }
  ]
}
